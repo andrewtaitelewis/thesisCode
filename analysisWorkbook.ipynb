{
 "cells": [
  {
   "cell_type": "code",
   "execution_count": null,
   "metadata": {},
   "outputs": [],
   "source": [
    "import numpy as np \n",
    "import matplotlib.pyplot as plt\n",
    "import pickle \n",
    "import math\n",
    "import tables"
   ]
  },
  {
   "cell_type": "code",
   "execution_count": null,
   "metadata": {},
   "outputs": [],
   "source": [
    "#"
   ]
  },
  {
   "cell_type": "code",
   "execution_count": 2,
   "metadata": {},
   "outputs": [],
   "source": [
    "tempArray = np.full((64**2,512,512), np.nan )\n",
    "#Max size is around : 1073741824"
   ]
  },
  {
   "cell_type": "code",
   "execution_count": 3,
   "metadata": {},
   "outputs": [],
   "source": [
    "temp2 = np.full((64**2,512,512), np.nan )"
   ]
  },
  {
   "cell_type": "code",
   "execution_count": 4,
   "metadata": {},
   "outputs": [],
   "source": [
    "temp3 = np.full((64**2,512,512), np.nan )"
   ]
  },
  {
   "cell_type": "code",
   "execution_count": 6,
   "metadata": {},
   "outputs": [
    {
     "name": "stdout",
     "output_type": "stream",
     "text": [
      "[[0.4858709  0.5841379  0.30038771 ... 0.80356044 0.72662374 0.85329522]\n",
      " [0.02008628 0.41842507 0.73777277 ... 0.96479533 0.18624377 0.9952192 ]\n",
      " [0.06882137 0.26619889 0.35608108 ... 0.94625455 0.33733427 0.4865047 ]\n",
      " ...\n",
      " [0.0542277  0.85262102 0.54894948 ... 0.50126929 0.5553265  0.93855586]\n",
      " [0.01670121 0.22006872 0.52438689 ... 0.08556445 0.96509558 0.46702096]\n",
      " [0.63572334 0.89555565 0.16518302 ... 0.1611506  0.58597694 0.8172121 ]]\n"
     ]
    }
   ],
   "source": [
    "print(tempArray[0,0:64,0:64])\n",
    "np.random.rand(64,64)\n",
    "tempArray[0,0:64,0:64]=  np.random.rand(64,64)"
   ]
  },
  {
   "cell_type": "code",
   "execution_count": 15,
   "metadata": {},
   "outputs": [
    {
     "name": "stdout",
     "output_type": "stream",
     "text": [
      "True\n"
     ]
    }
   ],
   "source": [
    "print(np.all(tempArray[3,0,0]))"
   ]
  },
  {
   "cell_type": "code",
   "execution_count": null,
   "metadata": {},
   "outputs": [
    {
     "name": "stdout",
     "output_type": "stream",
     "text": [
      "Pesky little data\n"
     ]
    }
   ],
   "source": [
    "#Coede to determine if we can save here... order is unimportant\n",
    "    #If we were more clever we could probably figure out exactly where to save each time but I am not feeling clever today\n",
    "index = 0\n",
    "while np.all(np.isnan(tempArray[index,0:64,0:64])) == False:\n",
    "    index += 1\n",
    "if np.all(np.isnan(tempArray[index,0:64,0:64])):\n",
    "    print('youpiee')\n",
    "else:\n",
    "    print('Pesky little data')"
   ]
  },
  {
   "cell_type": "code",
   "execution_count": 41,
   "metadata": {},
   "outputs": [],
   "source": [
    "#ZARR?\n",
    "import zarr "
   ]
  },
  {
   "cell_type": "code",
   "execution_count": 42,
   "metadata": {},
   "outputs": [
    {
     "ename": "NameError",
     "evalue": "name 'self' is not defined",
     "output_type": "error",
     "traceback": [
      "\u001b[31m---------------------------------------------------------------------------\u001b[39m",
      "\u001b[31mNameError\u001b[39m                                 Traceback (most recent call last)",
      "\u001b[36mCell\u001b[39m\u001b[36m \u001b[39m\u001b[32mIn[42]\u001b[39m\u001b[32m, line 3\u001b[39m\n\u001b[32m      1\u001b[39m store = zarr.storage.LocalStore(\u001b[33m'\u001b[39m\u001b[33mmydata.zarr\u001b[39m\u001b[33m'\u001b[39m)\n\u001b[32m      2\u001b[39m zarr_data = zarr.create_array(\n\u001b[32m----> \u001b[39m\u001b[32m3\u001b[39m     store=\u001b[38;5;28;43mself\u001b[39;49m.store, \n\u001b[32m      4\u001b[39m     name=\u001b[33m'\u001b[39m\u001b[33mdata\u001b[39m\u001b[33m'\u001b[39m,\n\u001b[32m      5\u001b[39m     shape=(\u001b[32m40000\u001b[39m, \u001b[32m100\u001b[39m), \n\u001b[32m      6\u001b[39m     chunks=(\u001b[32m1000\u001b[39m, \u001b[32m100\u001b[39m), \n\u001b[32m      7\u001b[39m     dtype=\u001b[33m'\u001b[39m\u001b[33mf4\u001b[39m\u001b[33m'\u001b[39m)\n\u001b[32m      9\u001b[39m zarr_data[:] = np.random.randn(\u001b[32m10000\u001b[39m, \u001b[32m100\u001b[39m)\n",
      "\u001b[31mNameError\u001b[39m: name 'self' is not defined"
     ]
    }
   ],
   "source": [
    "store = zarr.storage.LocalStore('mydata.zarr')\n",
    "zarr_data = zarr.create_array(\n",
    "    store=self.store, \n",
    "    name='data',\n",
    "    shape=(40000, 100), \n",
    "    chunks=(1000, 100), \n",
    "    dtype='f4')\n",
    "\n",
    "zarr_data[:] = np.random.randn(10000, 100)"
   ]
  },
  {
   "cell_type": "code",
   "execution_count": null,
   "metadata": {},
   "outputs": [],
   "source": []
  }
 ],
 "metadata": {
  "kernelspec": {
   "display_name": ".venv",
   "language": "python",
   "name": "python3"
  },
  "language_info": {
   "codemirror_mode": {
    "name": "ipython",
    "version": 3
   },
   "file_extension": ".py",
   "mimetype": "text/x-python",
   "name": "python",
   "nbconvert_exporter": "python",
   "pygments_lexer": "ipython3",
   "version": "3.13.2"
  }
 },
 "nbformat": 4,
 "nbformat_minor": 2
}
