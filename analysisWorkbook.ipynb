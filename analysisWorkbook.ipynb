{
 "cells": [
  {
   "cell_type": "code",
   "execution_count": 1,
   "metadata": {},
   "outputs": [],
   "source": [
    "import numpy as np \n",
    "import matplotlib.pyplot as plt\n",
    "import pickle \n",
    "import math\n",
    "import tables"
   ]
  },
  {
   "cell_type": "code",
   "execution_count": 2,
   "metadata": {},
   "outputs": [],
   "source": [
    "#"
   ]
  },
  {
   "cell_type": "code",
   "execution_count": 3,
   "metadata": {},
   "outputs": [],
   "source": [
    "tempArray = np.full((64**2,512,512), np.nan )\n",
    "#Max size is around : 1073741824"
   ]
  },
  {
   "cell_type": "code",
   "execution_count": 4,
   "metadata": {},
   "outputs": [],
   "source": [
    "temp2 = np.full((64**2,512,512), np.nan )"
   ]
  },
  {
   "cell_type": "code",
   "execution_count": 5,
   "metadata": {},
   "outputs": [],
   "source": [
    "temp3 = np.full((64**2,512,512), np.nan )"
   ]
  },
  {
   "cell_type": "code",
   "execution_count": 6,
   "metadata": {},
   "outputs": [
    {
     "name": "stdout",
     "output_type": "stream",
     "text": [
      "[[nan nan nan ... nan nan nan]\n",
      " [nan nan nan ... nan nan nan]\n",
      " [nan nan nan ... nan nan nan]\n",
      " ...\n",
      " [nan nan nan ... nan nan nan]\n",
      " [nan nan nan ... nan nan nan]\n",
      " [nan nan nan ... nan nan nan]]\n"
     ]
    }
   ],
   "source": [
    "print(tempArray[0,0:64,0:64])\n",
    "np.random.rand(64,64)\n",
    "tempArray[0,0:64,0:64]=  np.random.rand(64,64)"
   ]
  },
  {
   "cell_type": "code",
   "execution_count": 7,
   "metadata": {},
   "outputs": [
    {
     "name": "stdout",
     "output_type": "stream",
     "text": [
      "True\n"
     ]
    }
   ],
   "source": [
    "print(np.all(tempArray[3,0,0]))"
   ]
  },
  {
   "cell_type": "code",
   "execution_count": 8,
   "metadata": {},
   "outputs": [
    {
     "name": "stdout",
     "output_type": "stream",
     "text": [
      "youpiee\n"
     ]
    }
   ],
   "source": [
    "#Coede to determine if we can save here... order is unimportant\n",
    "    #If we were more clever we could probably figure out exactly where to save each time but I am not feeling clever today\n",
    "index = 0\n",
    "while np.all(np.isnan(tempArray[index,0:64,0:64])) == False:\n",
    "    index += 1\n",
    "if np.all(np.isnan(tempArray[index,0:64,0:64])):\n",
    "    print('youpiee')\n",
    "else:\n",
    "    print('Pesky little data')"
   ]
  },
  {
   "cell_type": "code",
   "execution_count": 9,
   "metadata": {},
   "outputs": [],
   "source": [
    "#ZARR?\n",
    "import zarr "
   ]
  },
  {
   "cell_type": "code",
   "execution_count": 18,
   "metadata": {},
   "outputs": [],
   "source": [
    "z = zarr.create_array(\n",
    "\n",
    "   store=\"data/example-1.zarr\",\n",
    "\n",
    "   shape=(1000, 64,512,512),\n",
    "\n",
    "   chunks=(1,64,512, 512),\n",
    "\n",
    "   dtype=\"f8\"\n",
    "\n",
    ")\n",
    "\n",
    "\n"
   ]
  },
  {
   "cell_type": "code",
   "execution_count": null,
   "metadata": {},
   "outputs": [],
   "source": [
    "z2 = zarr.open_array('data/example-1.zarr')  #Open the array!"
   ]
  },
  {
   "cell_type": "code",
   "execution_count": 31,
   "metadata": {},
   "outputs": [
    {
     "data": {
      "text/plain": [
       "array([[[0.90913614, 0.38324892, 0.55308548, ..., 0.95247736,\n",
       "         0.79549113, 0.66172446],\n",
       "        [0.09423049, 0.20249714, 0.47890372, ..., 0.22559495,\n",
       "         0.46411063, 0.44068364],\n",
       "        [0.44661879, 0.92390092, 0.1596659 , ..., 0.43370698,\n",
       "         0.36718923, 0.37826966],\n",
       "        ...,\n",
       "        [0.64070836, 0.83123783, 0.93350887, ..., 0.31113106,\n",
       "         0.76921099, 0.51595146],\n",
       "        [0.92572202, 0.27374368, 0.35393967, ..., 0.20622804,\n",
       "         0.00412334, 0.21664642],\n",
       "        [0.59797361, 0.56039281, 0.98821819, ..., 0.32416123,\n",
       "         0.45938182, 0.46440957]],\n",
       "\n",
       "       [[0.39555869, 0.99784312, 0.28734584, ..., 0.71473581,\n",
       "         0.89453931, 0.9802032 ],\n",
       "        [0.49024648, 0.44145899, 0.099736  , ..., 0.98238574,\n",
       "         0.2216986 , 0.73322053],\n",
       "        [0.46992833, 0.97482656, 0.21426744, ..., 0.48427101,\n",
       "         0.33076077, 0.35285577],\n",
       "        ...,\n",
       "        [0.74766269, 0.19101825, 0.49895647, ..., 0.70285268,\n",
       "         0.94523271, 0.98209574],\n",
       "        [0.47904071, 0.10323668, 0.45067467, ..., 0.46853449,\n",
       "         0.82971077, 0.66317692],\n",
       "        [0.2644853 , 0.55712128, 0.43946754, ..., 0.02182117,\n",
       "         0.63635906, 0.25009381]],\n",
       "\n",
       "       [[0.26876674, 0.26377331, 0.33515505, ..., 0.4132393 ,\n",
       "         0.36787982, 0.89833492],\n",
       "        [0.27081486, 0.10818048, 0.86236615, ..., 0.73455822,\n",
       "         0.57715888, 0.03247488],\n",
       "        [0.14682116, 0.72164797, 0.17486135, ..., 0.60977709,\n",
       "         0.45033374, 0.68433931],\n",
       "        ...,\n",
       "        [0.12721856, 0.51133069, 0.09759043, ..., 0.2738628 ,\n",
       "         0.15920883, 0.96256256],\n",
       "        [0.40049033, 0.10817733, 0.37463902, ..., 0.23930751,\n",
       "         0.09581617, 0.2452053 ],\n",
       "        [0.23613049, 0.98091617, 0.53018857, ..., 0.49187838,\n",
       "         0.34128113, 0.7470364 ]],\n",
       "\n",
       "       ...,\n",
       "\n",
       "       [[0.83294577, 0.8593863 , 0.91402449, ..., 0.18591775,\n",
       "         0.52473211, 0.55797069],\n",
       "        [0.37730921, 0.05980314, 0.64474999, ..., 0.48720365,\n",
       "         0.44537107, 0.17767736],\n",
       "        [0.33713847, 0.43109297, 0.0364244 , ..., 0.42727723,\n",
       "         0.12318399, 0.60343661],\n",
       "        ...,\n",
       "        [0.50851395, 0.35309061, 0.33772432, ..., 0.23388596,\n",
       "         0.71461326, 0.15029051],\n",
       "        [0.88250779, 0.56118276, 0.52569337, ..., 0.00520446,\n",
       "         0.14156441, 0.71712691],\n",
       "        [0.2169357 , 0.53033884, 0.72136256, ..., 0.07269132,\n",
       "         0.68809636, 0.71449146]],\n",
       "\n",
       "       [[0.16494163, 0.60613183, 0.85532817, ..., 0.45951304,\n",
       "         0.71848656, 0.65031264],\n",
       "        [0.84530017, 0.95508964, 0.05443898, ..., 0.95798543,\n",
       "         0.10421039, 0.04189065],\n",
       "        [0.69874621, 0.50443639, 0.25254499, ..., 0.20375655,\n",
       "         0.10983894, 0.85947715],\n",
       "        ...,\n",
       "        [0.92079426, 0.56061325, 0.50780109, ..., 0.03814209,\n",
       "         0.44337587, 0.8687081 ],\n",
       "        [0.26522429, 0.78362644, 0.36950063, ..., 0.04894309,\n",
       "         0.59074045, 0.5646473 ],\n",
       "        [0.53623001, 0.92314207, 0.89413822, ..., 0.47232947,\n",
       "         0.36092598, 0.16958436]],\n",
       "\n",
       "       [[0.86522421, 0.58083817, 0.23811923, ..., 0.03184997,\n",
       "         0.45707564, 0.68676273],\n",
       "        [0.22670628, 0.60287519, 0.22139266, ..., 0.59009552,\n",
       "         0.05944558, 0.8649311 ],\n",
       "        [0.17565728, 0.11803418, 0.60496239, ..., 0.58966506,\n",
       "         0.88471846, 0.23714455],\n",
       "        ...,\n",
       "        [0.40458291, 0.16088364, 0.89148846, ..., 0.45428915,\n",
       "         0.70633414, 0.98665491],\n",
       "        [0.16668222, 0.16958881, 0.85964173, ..., 0.83090805,\n",
       "         0.89895155, 0.88452072],\n",
       "        [0.36812185, 0.30776901, 0.88821904, ..., 0.48254527,\n",
       "         0.60755267, 0.05644261]]], shape=(64, 512, 512))"
      ]
     },
     "execution_count": 31,
     "metadata": {},
     "output_type": "execute_result"
    }
   ],
   "source": [
    "z2[10]"
   ]
  },
  {
   "cell_type": "code",
   "execution_count": 19,
   "metadata": {},
   "outputs": [],
   "source": [
    "randomData = np.random.random((64,512,512))"
   ]
  },
  {
   "cell_type": "code",
   "execution_count": 24,
   "metadata": {},
   "outputs": [
    {
     "name": "stdout",
     "output_type": "stream",
     "text": [
      "(1000, 64, 512, 512)\n"
     ]
    }
   ],
   "source": [
    "print(np.shape(z))"
   ]
  },
  {
   "cell_type": "code",
   "execution_count": 26,
   "metadata": {},
   "outputs": [
    {
     "ename": "KeyboardInterrupt",
     "evalue": "",
     "output_type": "error",
     "traceback": [
      "\u001b[31m---------------------------------------------------------------------------\u001b[39m",
      "\u001b[31mKeyboardInterrupt\u001b[39m                         Traceback (most recent call last)",
      "\u001b[36mCell\u001b[39m\u001b[36m \u001b[39m\u001b[32mIn[26]\u001b[39m\u001b[32m, line 2\u001b[39m\n\u001b[32m      1\u001b[39m \u001b[38;5;28;01mfor\u001b[39;00m i \u001b[38;5;129;01min\u001b[39;00m \u001b[38;5;28mrange\u001b[39m(\u001b[32m1000\u001b[39m):\n\u001b[32m----> \u001b[39m\u001b[32m2\u001b[39m     \u001b[43mz\u001b[49m\u001b[43m[\u001b[49m\u001b[43mi\u001b[49m\u001b[43m]\u001b[49m = randomData\n",
      "\u001b[36mFile \u001b[39m\u001b[32mc:\\Users\\Andrew\\Desktop\\Research Code\\thesisCode\\.venv\\Lib\\site-packages\\zarr\\core\\array.py:2524\u001b[39m, in \u001b[36mArray.__setitem__\u001b[39m\u001b[34m(self, selection, value)\u001b[39m\n\u001b[32m   2522\u001b[39m     \u001b[38;5;28mself\u001b[39m.vindex[cast(CoordinateSelection | MaskSelection, selection)] = value\n\u001b[32m   2523\u001b[39m \u001b[38;5;28;01melif\u001b[39;00m is_pure_orthogonal_indexing(pure_selection, \u001b[38;5;28mself\u001b[39m.ndim):\n\u001b[32m-> \u001b[39m\u001b[32m2524\u001b[39m     \u001b[38;5;28;43mself\u001b[39;49m\u001b[43m.\u001b[49m\u001b[43mset_orthogonal_selection\u001b[49m\u001b[43m(\u001b[49m\u001b[43mpure_selection\u001b[49m\u001b[43m,\u001b[49m\u001b[43m \u001b[49m\u001b[43mvalue\u001b[49m\u001b[43m,\u001b[49m\u001b[43m \u001b[49m\u001b[43mfields\u001b[49m\u001b[43m=\u001b[49m\u001b[43mfields\u001b[49m\u001b[43m)\u001b[49m\n\u001b[32m   2525\u001b[39m \u001b[38;5;28;01melse\u001b[39;00m:\n\u001b[32m   2526\u001b[39m     \u001b[38;5;28mself\u001b[39m.set_basic_selection(cast(BasicSelection, pure_selection), value, fields=fields)\n",
      "\u001b[36mFile \u001b[39m\u001b[32mc:\\Users\\Andrew\\Desktop\\Research Code\\thesisCode\\.venv\\Lib\\site-packages\\zarr\\_compat.py:43\u001b[39m, in \u001b[36m_deprecate_positional_args.<locals>._inner_deprecate_positional_args.<locals>.inner_f\u001b[39m\u001b[34m(*args, **kwargs)\u001b[39m\n\u001b[32m     41\u001b[39m extra_args = \u001b[38;5;28mlen\u001b[39m(args) - \u001b[38;5;28mlen\u001b[39m(all_args)\n\u001b[32m     42\u001b[39m \u001b[38;5;28;01mif\u001b[39;00m extra_args <= \u001b[32m0\u001b[39m:\n\u001b[32m---> \u001b[39m\u001b[32m43\u001b[39m     \u001b[38;5;28;01mreturn\u001b[39;00m \u001b[43mf\u001b[49m\u001b[43m(\u001b[49m\u001b[43m*\u001b[49m\u001b[43margs\u001b[49m\u001b[43m,\u001b[49m\u001b[43m \u001b[49m\u001b[43m*\u001b[49m\u001b[43m*\u001b[49m\u001b[43mkwargs\u001b[49m\u001b[43m)\u001b[49m\n\u001b[32m     45\u001b[39m \u001b[38;5;66;03m# extra_args > 0\u001b[39;00m\n\u001b[32m     46\u001b[39m args_msg = [\n\u001b[32m     47\u001b[39m     \u001b[33mf\u001b[39m\u001b[33m\"\u001b[39m\u001b[38;5;132;01m{\u001b[39;00mname\u001b[38;5;132;01m}\u001b[39;00m\u001b[33m=\u001b[39m\u001b[38;5;132;01m{\u001b[39;00marg\u001b[38;5;132;01m}\u001b[39;00m\u001b[33m\"\u001b[39m\n\u001b[32m     48\u001b[39m     \u001b[38;5;28;01mfor\u001b[39;00m name, arg \u001b[38;5;129;01min\u001b[39;00m \u001b[38;5;28mzip\u001b[39m(kwonly_args[:extra_args], args[-extra_args:], strict=\u001b[38;5;28;01mFalse\u001b[39;00m)\n\u001b[32m     49\u001b[39m ]\n",
      "\u001b[36mFile \u001b[39m\u001b[32mc:\\Users\\Andrew\\Desktop\\Research Code\\thesisCode\\.venv\\Lib\\site-packages\\zarr\\core\\array.py:2980\u001b[39m, in \u001b[36mArray.set_orthogonal_selection\u001b[39m\u001b[34m(self, selection, value, fields, prototype)\u001b[39m\n\u001b[32m   2978\u001b[39m     prototype = default_buffer_prototype()\n\u001b[32m   2979\u001b[39m indexer = OrthogonalIndexer(selection, \u001b[38;5;28mself\u001b[39m.shape, \u001b[38;5;28mself\u001b[39m.metadata.chunk_grid)\n\u001b[32m-> \u001b[39m\u001b[32m2980\u001b[39m \u001b[38;5;28;01mreturn\u001b[39;00m \u001b[43msync\u001b[49m\u001b[43m(\u001b[49m\n\u001b[32m   2981\u001b[39m \u001b[43m    \u001b[49m\u001b[38;5;28;43mself\u001b[39;49m\u001b[43m.\u001b[49m\u001b[43m_async_array\u001b[49m\u001b[43m.\u001b[49m\u001b[43m_set_selection\u001b[49m\u001b[43m(\u001b[49m\u001b[43mindexer\u001b[49m\u001b[43m,\u001b[49m\u001b[43m \u001b[49m\u001b[43mvalue\u001b[49m\u001b[43m,\u001b[49m\u001b[43m \u001b[49m\u001b[43mfields\u001b[49m\u001b[43m=\u001b[49m\u001b[43mfields\u001b[49m\u001b[43m,\u001b[49m\u001b[43m \u001b[49m\u001b[43mprototype\u001b[49m\u001b[43m=\u001b[49m\u001b[43mprototype\u001b[49m\u001b[43m)\u001b[49m\n\u001b[32m   2982\u001b[39m \u001b[43m\u001b[49m\u001b[43m)\u001b[49m\n",
      "\u001b[36mFile \u001b[39m\u001b[32mc:\\Users\\Andrew\\Desktop\\Research Code\\thesisCode\\.venv\\Lib\\site-packages\\zarr\\core\\sync.py:156\u001b[39m, in \u001b[36msync\u001b[39m\u001b[34m(coro, loop, timeout)\u001b[39m\n\u001b[32m    152\u001b[39m     \u001b[38;5;28;01mpass\u001b[39;00m\n\u001b[32m    154\u001b[39m future = asyncio.run_coroutine_threadsafe(_runner(coro), loop)\n\u001b[32m--> \u001b[39m\u001b[32m156\u001b[39m finished, unfinished = \u001b[43mwait\u001b[49m\u001b[43m(\u001b[49m\u001b[43m[\u001b[49m\u001b[43mfuture\u001b[49m\u001b[43m]\u001b[49m\u001b[43m,\u001b[49m\u001b[43m \u001b[49m\u001b[43mreturn_when\u001b[49m\u001b[43m=\u001b[49m\u001b[43masyncio\u001b[49m\u001b[43m.\u001b[49m\u001b[43mALL_COMPLETED\u001b[49m\u001b[43m,\u001b[49m\u001b[43m \u001b[49m\u001b[43mtimeout\u001b[49m\u001b[43m=\u001b[49m\u001b[43mtimeout\u001b[49m\u001b[43m)\u001b[49m\n\u001b[32m    157\u001b[39m \u001b[38;5;28;01mif\u001b[39;00m \u001b[38;5;28mlen\u001b[39m(unfinished) > \u001b[32m0\u001b[39m:\n\u001b[32m    158\u001b[39m     \u001b[38;5;28;01mraise\u001b[39;00m \u001b[38;5;167;01mTimeoutError\u001b[39;00m(\u001b[33mf\u001b[39m\u001b[33m\"\u001b[39m\u001b[33mCoroutine \u001b[39m\u001b[38;5;132;01m{\u001b[39;00mcoro\u001b[38;5;132;01m}\u001b[39;00m\u001b[33m failed to finish within \u001b[39m\u001b[38;5;132;01m{\u001b[39;00mtimeout\u001b[38;5;132;01m}\u001b[39;00m\u001b[33m s\u001b[39m\u001b[33m\"\u001b[39m)\n",
      "\u001b[36mFile \u001b[39m\u001b[32mC:\\Program Files\\WindowsApps\\PythonSoftwareFoundation.Python.3.13_3.13.752.0_x64__qbz5n2kfra8p0\\Lib\\concurrent\\futures\\_base.py:305\u001b[39m, in \u001b[36mwait\u001b[39m\u001b[34m(fs, timeout, return_when)\u001b[39m\n\u001b[32m    301\u001b[39m         \u001b[38;5;28;01mreturn\u001b[39;00m DoneAndNotDoneFutures(done, not_done)\n\u001b[32m    303\u001b[39m     waiter = _create_and_install_waiters(fs, return_when)\n\u001b[32m--> \u001b[39m\u001b[32m305\u001b[39m \u001b[43mwaiter\u001b[49m\u001b[43m.\u001b[49m\u001b[43mevent\u001b[49m\u001b[43m.\u001b[49m\u001b[43mwait\u001b[49m\u001b[43m(\u001b[49m\u001b[43mtimeout\u001b[49m\u001b[43m)\u001b[49m\n\u001b[32m    306\u001b[39m \u001b[38;5;28;01mfor\u001b[39;00m f \u001b[38;5;129;01min\u001b[39;00m fs:\n\u001b[32m    307\u001b[39m     \u001b[38;5;28;01mwith\u001b[39;00m f._condition:\n",
      "\u001b[36mFile \u001b[39m\u001b[32mC:\\Program Files\\WindowsApps\\PythonSoftwareFoundation.Python.3.13_3.13.752.0_x64__qbz5n2kfra8p0\\Lib\\threading.py:659\u001b[39m, in \u001b[36mEvent.wait\u001b[39m\u001b[34m(self, timeout)\u001b[39m\n\u001b[32m    657\u001b[39m signaled = \u001b[38;5;28mself\u001b[39m._flag\n\u001b[32m    658\u001b[39m \u001b[38;5;28;01mif\u001b[39;00m \u001b[38;5;129;01mnot\u001b[39;00m signaled:\n\u001b[32m--> \u001b[39m\u001b[32m659\u001b[39m     signaled = \u001b[38;5;28;43mself\u001b[39;49m\u001b[43m.\u001b[49m\u001b[43m_cond\u001b[49m\u001b[43m.\u001b[49m\u001b[43mwait\u001b[49m\u001b[43m(\u001b[49m\u001b[43mtimeout\u001b[49m\u001b[43m)\u001b[49m\n\u001b[32m    660\u001b[39m \u001b[38;5;28;01mreturn\u001b[39;00m signaled\n",
      "\u001b[36mFile \u001b[39m\u001b[32mC:\\Program Files\\WindowsApps\\PythonSoftwareFoundation.Python.3.13_3.13.752.0_x64__qbz5n2kfra8p0\\Lib\\threading.py:359\u001b[39m, in \u001b[36mCondition.wait\u001b[39m\u001b[34m(self, timeout)\u001b[39m\n\u001b[32m    357\u001b[39m \u001b[38;5;28;01mtry\u001b[39;00m:    \u001b[38;5;66;03m# restore state no matter what (e.g., KeyboardInterrupt)\u001b[39;00m\n\u001b[32m    358\u001b[39m     \u001b[38;5;28;01mif\u001b[39;00m timeout \u001b[38;5;129;01mis\u001b[39;00m \u001b[38;5;28;01mNone\u001b[39;00m:\n\u001b[32m--> \u001b[39m\u001b[32m359\u001b[39m         \u001b[43mwaiter\u001b[49m\u001b[43m.\u001b[49m\u001b[43macquire\u001b[49m\u001b[43m(\u001b[49m\u001b[43m)\u001b[49m\n\u001b[32m    360\u001b[39m         gotit = \u001b[38;5;28;01mTrue\u001b[39;00m\n\u001b[32m    361\u001b[39m     \u001b[38;5;28;01melse\u001b[39;00m:\n",
      "\u001b[31mKeyboardInterrupt\u001b[39m: "
     ]
    }
   ],
   "source": [
    "for i in range(1000):\n",
    "    z[i] = randomData\n"
   ]
  },
  {
   "cell_type": "code",
   "execution_count": 16,
   "metadata": {},
   "outputs": [
    {
     "data": {
      "text/plain": [
       "Type               : Array\n",
       "Zarr format        : 3\n",
       "Data type          : DataType.float64\n",
       "Shape              : (1000, 512, 512)\n",
       "Chunk shape        : (1, 512, 512)\n",
       "Order              : C\n",
       "Read-only          : False\n",
       "Store type         : LocalStore\n",
       "Filters            : ()\n",
       "Serializer         : BytesCodec(endian=<Endian.little: 'little'>)\n",
       "Compressors        : (ZstdCodec(level=0, checksum=False),)\n",
       "No. bytes          : 2097152000 (2.0G)"
      ]
     },
     "execution_count": 16,
     "metadata": {},
     "output_type": "execute_result"
    }
   ],
   "source": [
    "z.info"
   ]
  },
  {
   "cell_type": "code",
   "execution_count": null,
   "metadata": {},
   "outputs": [],
   "source": []
  }
 ],
 "metadata": {
  "kernelspec": {
   "display_name": ".venv",
   "language": "python",
   "name": "python3"
  },
  "language_info": {
   "codemirror_mode": {
    "name": "ipython",
    "version": 3
   },
   "file_extension": ".py",
   "mimetype": "text/x-python",
   "name": "python",
   "nbconvert_exporter": "python",
   "pygments_lexer": "ipython3",
   "version": "3.13.2"
  }
 },
 "nbformat": 4,
 "nbformat_minor": 2
}
